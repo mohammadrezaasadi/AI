{
  "nbformat": 4,
  "nbformat_minor": 0,
  "metadata": {
    "colab": {
      "provenance": [],
      "authorship_tag": "ABX9TyMalgGuxEixlB8+2lZ/bHTj",
      "include_colab_link": true
    },
    "kernelspec": {
      "name": "python3",
      "display_name": "Python 3"
    },
    "language_info": {
      "name": "python"
    }
  },
  "cells": [
    {
      "cell_type": "markdown",
      "metadata": {
        "id": "view-in-github",
        "colab_type": "text"
      },
      "source": [
        "<a href=\"https://colab.research.google.com/github/mohammadrezaasadi/AI/blob/master/Pandas.ipynb\" target=\"_parent\"><img src=\"https://colab.research.google.com/assets/colab-badge.svg\" alt=\"Open In Colab\"/></a>"
      ]
    },
    {
      "cell_type": "code",
      "execution_count": 2,
      "metadata": {
        "id": "y-f8QIORnqLg"
      },
      "outputs": [],
      "source": [
        "import pandas as pd"
      ]
    },
    {
      "cell_type": "markdown",
      "source": [
        "Data"
      ],
      "metadata": {
        "id": "rwGyyKAFojvT"
      }
    },
    {
      "cell_type": "code",
      "source": [
        "data = {\n",
        "    \"temp\"     : [35,33,31,29,23,27,34,35,19,30],\n",
        "    \"humidity\" : [44,45,35,42,52,34,35,34,36,42]\n",
        "}"
      ],
      "metadata": {
        "id": "zpsiYXKVomEy"
      },
      "execution_count": 1,
      "outputs": []
    },
    {
      "cell_type": "markdown",
      "source": [
        "Create DataFrame"
      ],
      "metadata": {
        "id": "D91bGWIlpe7L"
      }
    }
  ]
}