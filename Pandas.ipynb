{
  "nbformat": 4,
  "nbformat_minor": 0,
  "metadata": {
    "colab": {
      "provenance": [],
      "authorship_tag": "ABX9TyNqzayjCRh78H1AxcV8mKHB",
      "include_colab_link": true
    },
    "kernelspec": {
      "name": "python3",
      "display_name": "Python 3"
    },
    "language_info": {
      "name": "python"
    }
  },
  "cells": [
    {
      "cell_type": "markdown",
      "metadata": {
        "id": "view-in-github",
        "colab_type": "text"
      },
      "source": [
        "<a href=\"https://colab.research.google.com/github/mohammadrezaasadi/AI/blob/master/Pandas.ipynb\" target=\"_parent\"><img src=\"https://colab.research.google.com/assets/colab-badge.svg\" alt=\"Open In Colab\"/></a>"
      ]
    },
    {
      "cell_type": "code",
      "execution_count": 2,
      "metadata": {
        "id": "y-f8QIORnqLg"
      },
      "outputs": [],
      "source": [
        "import pandas as pd"
      ]
    },
    {
      "cell_type": "markdown",
      "source": [
        "Data"
      ],
      "metadata": {
        "id": "rwGyyKAFojvT"
      }
    },
    {
      "cell_type": "code",
      "source": [
        "data = {\n",
        "    \"temp\"     : [35,33,31,29,23,27,34,35,19,30],\n",
        "    \"humidity\" : [44,45,35,42,52,34,35,34,36,42]\n",
        "}"
      ],
      "metadata": {
        "id": "zpsiYXKVomEy"
      },
      "execution_count": 1,
      "outputs": []
    },
    {
      "cell_type": "markdown",
      "source": [
        "Create DataFrame"
      ],
      "metadata": {
        "id": "D91bGWIlpe7L"
      }
    },
    {
      "cell_type": "code",
      "source": [
        "df = pd.DataFrame(data)\n",
        "print(df)"
      ],
      "metadata": {
        "colab": {
          "base_uri": "https://localhost:8080/"
        },
        "collapsed": true,
        "id": "hKwXauLGpmy8",
        "outputId": "a14251e8-1d00-4761-bf36-ae370f36a751"
      },
      "execution_count": 4,
      "outputs": [
        {
          "output_type": "stream",
          "name": "stdout",
          "text": [
            "   temp  humidity\n",
            "0    35        44\n",
            "1    33        45\n",
            "2    31        35\n",
            "3    29        42\n",
            "4    23        52\n",
            "5    27        34\n",
            "6    34        35\n",
            "7    35        34\n",
            "8    19        36\n",
            "9    30        42\n"
          ]
        }
      ]
    },
    {
      "cell_type": "code",
      "source": [
        "df.to_csv('output.csv',index=False)"
      ],
      "metadata": {
        "id": "IqvtZRGMp0ad"
      },
      "execution_count": 6,
      "outputs": []
    }
  ]
}