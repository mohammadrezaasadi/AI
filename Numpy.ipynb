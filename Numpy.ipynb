{
  "nbformat": 4,
  "nbformat_minor": 0,
  "metadata": {
    "colab": {
      "provenance": [],
      "authorship_tag": "ABX9TyOEdtFvb0Q2HdifQCqXBj0U",
      "include_colab_link": true
    },
    "kernelspec": {
      "name": "python3",
      "display_name": "Python 3"
    },
    "language_info": {
      "name": "python"
    }
  },
  "cells": [
    {
      "cell_type": "markdown",
      "metadata": {
        "id": "view-in-github",
        "colab_type": "text"
      },
      "source": [
        "<a href=\"https://colab.research.google.com/github/mohammadrezaasadi/AI/blob/master/Numpy.ipynb\" target=\"_parent\"><img src=\"https://colab.research.google.com/assets/colab-badge.svg\" alt=\"Open In Colab\"/></a>"
      ]
    },
    {
      "cell_type": "code",
      "execution_count": 18,
      "metadata": {
        "id": "c8IChNNvfcA4"
      },
      "outputs": [],
      "source": [
        "import numpy as np"
      ]
    },
    {
      "cell_type": "code",
      "source": [
        "a = np.array(['1','2','3','4'])\n",
        "print(a, \"\" , a.shape)"
      ],
      "metadata": {
        "colab": {
          "base_uri": "https://localhost:8080/"
        },
        "id": "FSCVo7a3fgNb",
        "outputId": "74d12d94-3847-4127-a1ec-1abad6b944b7"
      },
      "execution_count": 19,
      "outputs": [
        {
          "output_type": "stream",
          "name": "stdout",
          "text": [
            "['1' '2' '3' '4']  (4,)\n"
          ]
        }
      ]
    },
    {
      "cell_type": "code",
      "source": [
        "respaed_a = a.reshape((4,1))\n",
        "print(respaed_a, \"\" , respaed_a.shape)"
      ],
      "metadata": {
        "colab": {
          "base_uri": "https://localhost:8080/"
        },
        "id": "9s0Vmh9_fvOu",
        "outputId": "697953f8-1b09-43fb-8224-d3da317ed9da"
      },
      "execution_count": 20,
      "outputs": [
        {
          "output_type": "stream",
          "name": "stdout",
          "text": [
            "[['1']\n",
            " ['2']\n",
            " ['3']\n",
            " ['4']]  (4, 1)\n"
          ]
        }
      ]
    }
  ]
}