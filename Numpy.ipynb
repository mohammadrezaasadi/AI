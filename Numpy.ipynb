{
  "nbformat": 4,
  "nbformat_minor": 0,
  "metadata": {
    "colab": {
      "provenance": [],
      "authorship_tag": "ABX9TyNLB61Jx2Ujzbb0OejnthVR",
      "include_colab_link": true
    },
    "kernelspec": {
      "name": "python3",
      "display_name": "Python 3"
    },
    "language_info": {
      "name": "python"
    }
  },
  "cells": [
    {
      "cell_type": "markdown",
      "metadata": {
        "id": "view-in-github",
        "colab_type": "text"
      },
      "source": [
        "<a href=\"https://colab.research.google.com/github/mohammadrezaasadi/AI/blob/master/Numpy.ipynb\" target=\"_parent\"><img src=\"https://colab.research.google.com/assets/colab-badge.svg\" alt=\"Open In Colab\"/></a>"
      ]
    },
    {
      "cell_type": "code",
      "execution_count": 1,
      "metadata": {
        "id": "c8IChNNvfcA4"
      },
      "outputs": [],
      "source": [
        "import numpy as np"
      ]
    },
    {
      "cell_type": "markdown",
      "source": [
        "Creating a vector (1D Array)"
      ],
      "metadata": {
        "id": "UHAKqhr7u5VB"
      }
    },
    {
      "cell_type": "code",
      "source": [
        "vector = np.array([18,15,14,19])\n",
        "print(vector, \"\" , vector.shape)"
      ],
      "metadata": {
        "colab": {
          "base_uri": "https://localhost:8080/"
        },
        "collapsed": true,
        "id": "FSCVo7a3fgNb",
        "outputId": "6b8b1e04-464b-4121-df58-0cc780c89fe4"
      },
      "execution_count": 2,
      "outputs": [
        {
          "output_type": "stream",
          "name": "stdout",
          "text": [
            "[18 15 14 19]  (4,)\n"
          ]
        }
      ]
    },
    {
      "cell_type": "code",
      "source": [
        "respaed_vector = vector.reshape((4,1))\n",
        "print(respaed_vector, \"\" , respaed_vector.shape)"
      ],
      "metadata": {
        "colab": {
          "base_uri": "https://localhost:8080/"
        },
        "collapsed": true,
        "id": "9s0Vmh9_fvOu",
        "outputId": "9d27ec47-9d04-4ef4-bf6e-21cf40eaf319"
      },
      "execution_count": null,
      "outputs": [
        {
          "output_type": "stream",
          "name": "stdout",
          "text": [
            "[[1]\n",
            " [2]\n",
            " [3]\n",
            " [4]]  (4, 1)\n"
          ]
        }
      ]
    },
    {
      "cell_type": "markdown",
      "source": [
        "Creating a Matrix (2D Array)"
      ],
      "metadata": {
        "id": "tzcZlnigvGLf"
      }
    },
    {
      "cell_type": "code",
      "source": [
        "matrix = np.array([[15,19,14,16],[13,15,18,19],[15,14,19,17]])\n",
        "print(matrix, \" \" , matrix.shape)"
      ],
      "metadata": {
        "colab": {
          "base_uri": "https://localhost:8080/"
        },
        "id": "GGZvSbvGvFUI",
        "outputId": "c9341e72-cf15-4660-dfe2-b848adb80f9a"
      },
      "execution_count": null,
      "outputs": [
        {
          "output_type": "stream",
          "name": "stdout",
          "text": [
            "[[15 19 14 16]\n",
            " [13 15 18 19]\n",
            " [15 14 19 17]]   (3, 4)\n"
          ]
        }
      ]
    },
    {
      "cell_type": "markdown",
      "source": [
        "Creating a tensor (3D Array)"
      ],
      "metadata": {
        "id": "vz0dVlGWxJ1O"
      }
    },
    {
      "cell_type": "code",
      "source": [
        "tensor = np.array([[[15,14,13,14],[15,18,13,17],[15,14,12,17],[15,14,12,19]]])\n",
        "print(tensor , \" \" , tensor.shape)"
      ],
      "metadata": {
        "colab": {
          "base_uri": "https://localhost:8080/"
        },
        "id": "TeqMQkcGxPku",
        "outputId": "13a38b52-0ed1-4a3b-d0e9-1c04ed9ea8a8"
      },
      "execution_count": null,
      "outputs": [
        {
          "output_type": "stream",
          "name": "stdout",
          "text": [
            "[[[15 14 13 14]\n",
            "  [15 18 13 17]\n",
            "  [15 14 12 17]\n",
            "  [15 14 12 19]]]   (1, 4, 4)\n"
          ]
        }
      ]
    },
    {
      "cell_type": "code",
      "source": [
        "random = np.random.randint(0,100,(2,2))\n",
        "print(random)"
      ],
      "metadata": {
        "colab": {
          "base_uri": "https://localhost:8080/"
        },
        "id": "naiEGrG8aCjK",
        "outputId": "acfc8b0b-0340-4243-ee0e-97f9ecc0e5a7"
      },
      "execution_count": 10,
      "outputs": [
        {
          "output_type": "stream",
          "name": "stdout",
          "text": [
            "[[17 86]\n",
            " [90 49]]\n"
          ]
        }
      ]
    }
  ]
}